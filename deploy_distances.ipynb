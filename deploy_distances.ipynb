{
  "nbformat": 4,
  "nbformat_minor": 0,
  "metadata": {
    "colab": {
      "provenance": [],
      "authorship_tag": "ABX9TyPZRoZi6yJY4matpiS0d3ks",
      "include_colab_link": true
    },
    "kernelspec": {
      "name": "python3",
      "display_name": "Python 3"
    },
    "language_info": {
      "name": "python"
    }
  },
  "cells": [
    {
      "cell_type": "markdown",
      "metadata": {
        "id": "view-in-github",
        "colab_type": "text"
      },
      "source": [
        "<a href=\"https://colab.research.google.com/github/ndazeo/ankloud-deploys/blob/main/deploy_distances.ipynb\" target=\"_parent\"><img src=\"https://colab.research.google.com/assets/colab-badge.svg\" alt=\"Open In Colab\"/></a>"
      ]
    },
    {
      "cell_type": "code",
      "execution_count": 2,
      "metadata": {
        "colab": {
          "base_uri": "https://localhost:8080/"
        },
        "id": "7Zh-AdsBFjF7",
        "outputId": "e0b55eaf-6141-4322-a66d-cd29eb962f63"
      },
      "outputs": [
        {
          "output_type": "stream",
          "name": "stdout",
          "text": [
            "Looking in indexes: https://pypi.org/simple, https://us-python.pkg.dev/colab-wheels/public/simple/\n",
            "Collecting vtk\n",
            "  Downloading vtk-9.2.6-cp39-cp39-manylinux_2_17_x86_64.manylinux2014_x86_64.whl (79.3 MB)\n",
            "\u001b[2K     \u001b[90m━━━━━━━━━━━━━━━━━━━━━━━━━━━━━━━━━━━━━━━━\u001b[0m \u001b[32m79.3/79.3 MB\u001b[0m \u001b[31m12.0 MB/s\u001b[0m eta \u001b[36m0:00:00\u001b[0m\n",
            "\u001b[?25hRequirement already satisfied: matplotlib>=2.0.0 in /usr/local/lib/python3.9/dist-packages (from vtk) (3.7.1)\n",
            "Requirement already satisfied: python-dateutil>=2.7 in /usr/local/lib/python3.9/dist-packages (from matplotlib>=2.0.0->vtk) (2.8.2)\n",
            "Requirement already satisfied: numpy>=1.20 in /usr/local/lib/python3.9/dist-packages (from matplotlib>=2.0.0->vtk) (1.22.4)\n",
            "Requirement already satisfied: packaging>=20.0 in /usr/local/lib/python3.9/dist-packages (from matplotlib>=2.0.0->vtk) (23.0)\n",
            "Requirement already satisfied: pyparsing>=2.3.1 in /usr/local/lib/python3.9/dist-packages (from matplotlib>=2.0.0->vtk) (3.0.9)\n",
            "Requirement already satisfied: pillow>=6.2.0 in /usr/local/lib/python3.9/dist-packages (from matplotlib>=2.0.0->vtk) (8.4.0)\n",
            "Requirement already satisfied: fonttools>=4.22.0 in /usr/local/lib/python3.9/dist-packages (from matplotlib>=2.0.0->vtk) (4.39.3)\n",
            "Requirement already satisfied: kiwisolver>=1.0.1 in /usr/local/lib/python3.9/dist-packages (from matplotlib>=2.0.0->vtk) (1.4.4)\n",
            "Requirement already satisfied: importlib-resources>=3.2.0 in /usr/local/lib/python3.9/dist-packages (from matplotlib>=2.0.0->vtk) (5.12.0)\n",
            "Requirement already satisfied: contourpy>=1.0.1 in /usr/local/lib/python3.9/dist-packages (from matplotlib>=2.0.0->vtk) (1.0.7)\n",
            "Requirement already satisfied: cycler>=0.10 in /usr/local/lib/python3.9/dist-packages (from matplotlib>=2.0.0->vtk) (0.11.0)\n",
            "Requirement already satisfied: zipp>=3.1.0 in /usr/local/lib/python3.9/dist-packages (from importlib-resources>=3.2.0->matplotlib>=2.0.0->vtk) (3.15.0)\n",
            "Requirement already satisfied: six>=1.5 in /usr/local/lib/python3.9/dist-packages (from python-dateutil>=2.7->matplotlib>=2.0.0->vtk) (1.16.0)\n",
            "Installing collected packages: vtk\n",
            "Successfully installed vtk-9.2.6\n",
            "Mounted at /content/gdrive/\n"
          ]
        }
      ],
      "source": [
        "!pip install vtk\n",
        "import numpy as np\n",
        "from google.colab import drive\n",
        "drive.mount(\"/content/gdrive/\")"
      ]
    },
    {
      "cell_type": "code",
      "source": [
        "import vtk\n",
        "from vtk.numpy_interface import dataset_adapter as dsa\n",
        "\n",
        "def open(filename):\n",
        "  reader = vtk.vtkPolyDataReader()\n",
        "  reader.SetFileName(filename)\n",
        "  reader.ReadAllScalarsOn()\n",
        "  reader.ReadAllVectorsOn()\n",
        "  reader.Update()\n",
        "  return dsa.WrapDataObject(reader.GetOutput())"
      ],
      "metadata": {
        "id": "-RgkD8TpRZQE"
      },
      "execution_count": 3,
      "outputs": []
    },
    {
      "cell_type": "code",
      "source": [
        "t1 = [\n",
        "    [-3.99341789, -9.52261083, -6.32675576],\n",
        "    [  2.28220504,  -5.73482951, -13.58637434],\n",
        "    41,5926\n",
        "]\n",
        "t1cl = f'/content/gdrive/MyDrive/Pladema/ANKloud/clinic/ts/VesselCenterline - T1 Derivo4.0x20.vtk'\n",
        "\n",
        "t2 = [\n",
        "    [-4.27963302, -8.24667364, -6.35095714],\n",
        "    [  2.33440983,  -5.81547885, -12.97111967],\n",
        "    41,5926\n",
        "]\n",
        "t2cl = f'/content/gdrive/MyDrive/Pladema/ANKloud/clinic/ts/VesselCenterline - T1 Derivo4.0x20.vtk'\n",
        "\n",
        "t3 = [\n",
        "  [78.7693921175144, 47.67446054381513, -86.97168256553952],\n",
        "  [85.46609894062203, 47.63836786020098, -94.70322295270363],\n",
        "  31.8251\n",
        "]\n",
        "\n",
        "t3cl = f'/content/gdrive/MyDrive/Pladema/ANKloud/clinic/ts/VesselCenterline - T3 Derivo4.5x30.vtk'\n",
        "\n",
        "t4 = [\n",
        "  [5.939937723817355,-181.485750378504,-207.12228904339912],\n",
        "  [4.783989783309632,-180.65804111991378,-211.88494419797863],\n",
        "  23.7039\n",
        "]\n",
        "t4cl = f'/content/gdrive/MyDrive/Pladema/ANKloud/clinic/ts/VesselCenterline - T4 Derivo4.0x15.vtk'\n",
        "\n",
        "t5 = [\n",
        "  [139.18160710534926,-186.12737094792533,-219.03548563135732],\n",
        "  [139.88378529706293,-182.50283446359435,-229.22495535484987],\n",
        "  20.9672\n",
        "]\n",
        "t5cl = f'/content/gdrive/MyDrive/Pladema/ANKloud/clinic/ts/VesselCenterline - T5 Derivo4.0x15.vtk'"
      ],
      "metadata": {
        "id": "1XKrXh8IGgu7"
      },
      "execution_count": 4,
      "outputs": []
    },
    {
      "cell_type": "code",
      "source": [
        "import matplotlib.pyplot as plt\n",
        "\n",
        "def genPlot(clpath, points, stent, deploys=None):\n",
        "  cl = open(clpath)\n",
        "\n",
        "  proximalIds = cl.PointData[stent]\n",
        "  #abscissas = cl.PointData['Abscissas'] - (points[2] if len(points)>2 else 0)\n",
        "  filter = proximalIds>=0\n",
        "\n",
        "  perimeter = cl.PointData['Perimeter']\n",
        "  curvature = cl.PointData['Curvature']\n",
        "  sphradius = cl.PointData['MaximumInscribedSphereRadius']\n",
        "\n",
        "  \n",
        "  # ids = np.arange(proximalIds.shape[0])\n",
        "  distalId = np.linalg.norm(cl.Points-points[0],axis=1).argmin()\n",
        "  proximalId = np.linalg.norm(cl.Points-points[1],axis=1).argmin()\n",
        "  abscissas = cl.PointData['Abscissas'] - cl.PointData['Abscissas'][proximalId]\n",
        "  \n",
        "  optimal_dist = abscissas[proximalIds][filter]-abscissas[proximalId]\n",
        "\n",
        "  print(proximalId,cl.PointData['Abscissas'][proximalId])\n",
        "  print(distalId, cl.PointData['Abscissas'][distalId])\n",
        "  \n",
        "  fig, ax = plt.subplots()\n",
        "\n",
        "  x,y = abscissas[filter], optimal_dist\n",
        "\n",
        "  aneurysm_section = perimeter[filter] > 20\n",
        "  curvature_section = (curvature[filter] > 1) & (aneurysm_section == False)\n",
        "  #other = (aneurysm_section == False) & (curvature_section == False)\n",
        "  point_class = aneurysm_section * 2 + curvature_section\n",
        "\n",
        "  points = np.array([x, y]).T.reshape(-1, 1, 2)\n",
        "  segments = np.concatenate([points[:-1], points[1:]], axis=1)\n",
        "\n",
        "  # Use a boundary norm instead\n",
        "  #cmap = ListedColormap(['#1f77b4', 'g', 'b'])\n",
        "  #norm = BoundaryNorm([0, 1, 2, 3], cmap.N)\n",
        "  #lc = LineCollection(segments, cmap=cmap, norm=norm)\n",
        "  #lc.set_array(point_class)\n",
        "  #line = ax.add_collection(lc)\n",
        "  ax.plot(x,y)\n",
        "  \n",
        "  ax.axhline(y=0, color='k', linewidth=.5)\n",
        "\n",
        "  if deploys:\n",
        "    for deploy in deploys:\n",
        "      x = abscissas[deploy[\"id\"]]\n",
        "      y = abscissas[proximalIds[deploy[\"id\"]]]\n",
        "      \n",
        "      print(proximalIds[deploy[\"id\"]], cl.PointData['Abscissas'][proximalIds[deploy[\"id\"]]])\n",
        "      print(deploy[\"id\"], cl.PointData['Abscissas'][deploy[\"id\"]])\n",
        "      \n",
        "      plt.plot(x, y, marker=\"o\", markersize=10, markeredgecolor=\"k\", markerfacecolor=deploy[\"color\"])\n",
        "  else:\n",
        "    #ax.axvline(x=abscissas[distalId], color='#033500', linewidth=.5) # measured\n",
        "    x = abscissas[distalId]\n",
        "    y = abscissas[proximalIds[distalId]]\n",
        "    plt.plot(x, y, marker=\"o\", markersize=10, markeredgecolor=\"k\", markerfacecolor=\"#96f97b\")\n",
        "  \n",
        "  ax.axvline(x=abscissas[filter][np.abs(optimal_dist).argmin()], color='#96f97b', linewidth=.5) # predicted\n",
        "  \n",
        "  print(abscissas[distalId]-abscissas[filter][np.abs(optimal_dist).argmin()])\n",
        "  ax.set_ylabel(\"Proximal position (mm)\")\n",
        "  ax.set_xlabel(\"Distal position (mm)\")\n",
        "  #ax.xaxis.tick_top()\n",
        "  #ax.xaxis.set_label_position('top') \n",
        "  #plt.yticks(fontsize=16,)\n",
        "  #plt.xticks(fontsize=16,)\n",
        "\n",
        "  plt.show()\n",
        "  return fig"
      ],
      "metadata": {
        "id": "YruDoh-ARmZq"
      },
      "execution_count": 5,
      "outputs": []
    },
    {
      "cell_type": "code",
      "source": [
        "import matplotlib.pyplot as plt\n",
        "from matplotlib import patches\n",
        "\n",
        "def genPlot(clpath, points, stent, deploys=None):\n",
        "  cl = open(clpath)\n",
        "\n",
        "  proximalIds = cl.PointData[stent]\n",
        "  #abscissas = cl.PointData['Abscissas'] - (points[2] if len(points)>2 else 0)\n",
        "  # filter = proximalIds>=0\n",
        "\n",
        "  perimeter = cl.PointData['Perimeter']\n",
        "  curvature = cl.PointData['Curvature']\n",
        "  sphradius = cl.PointData['MaximumInscribedSphereRadius']\n",
        "\n",
        "  # ids = np.arange(proximalIds.shape[0])\n",
        "  distalId = np.linalg.norm(cl.Points-points[0],axis=1).argmin()\n",
        "  proximalId = np.linalg.norm(cl.Points-points[1],axis=1).argmin()\n",
        "  abscissas = cl.PointData['Abscissas']\n",
        "  ss = np.array([-1,1] * (abscissas.shape[0] // 2))\n",
        "\n",
        "  optimal_dist = abscissas[proximalIds]\n",
        "\n",
        "  print(proximalId,cl.PointData['Abscissas'][proximalId])\n",
        "  print(distalId, cl.PointData['Abscissas'][distalId])\n",
        "  \n",
        "  fig, ax = plt.subplots()\n",
        "\n",
        "\n",
        "  def plotStent(proximalId, distalId, height=None, color=None):\n",
        "    x0 = abscissas[proximalId]\n",
        "    xs = abscissas[distalId] - x0\n",
        "    y0 = (height or 0) -.5\n",
        "    ys = 1\n",
        "    x,y = abscissas, np.full(abscissas.shape, height or 0)\n",
        "    ax.plot(x,y, color='k')\n",
        "    rect = patches.Rectangle((x0, y0), xs, ys, linewidth=0, facecolor='green')\n",
        "    ax.add_patch(rect)\n",
        "\n",
        "  plotStent(proximalId, distalId)\n",
        "  \n",
        "  if deploys:\n",
        "    for deploy in deploys:\n",
        "      distalId = deploy[\"id\"]\n",
        "      proximalId = proximalIds[deploy[\"id\"]]\n",
        "      plotStent(proximalId, distalId)\n",
        "  else:\n",
        "    proximalId = proximalIds[distalId]\n",
        "    plotStent(proximalId, distalId, height=2)\n",
        "  \n",
        "  print(abscissas[distalId]-abscissas[np.abs(optimal_dist).argmin()])\n",
        "  ax.set_xlabel(\"Distal position (mm)\")\n",
        "\n",
        "  ax.get_yaxis().set_visible(False)\n",
        "  plt.ylim(-5,5)\n",
        "  \n",
        "  #ax.xaxis.tick_top()\n",
        "  #ax.xaxis.set_label_position('top') \n",
        "  #plt.xticks(fontsize=16,)\n",
        "\n",
        "  plt.show()\n",
        "  return fig\n",
        "\n",
        "fig = genPlot(t1cl, t1, 'derivo4.0x20')\n",
        "fig.savefig('t1_4.0x20.png')\n"
      ],
      "metadata": {
        "colab": {
          "base_uri": "https://localhost:8080/",
          "height": 502
        },
        "id": "abmUf9gsSwt8",
        "outputId": "4ee73431-2142-4fd7-b278-2d435b2ca67c"
      },
      "execution_count": 15,
      "outputs": [
        {
          "output_type": "stream",
          "name": "stdout",
          "text": [
            "62 21.669777583\n",
            "138 48.233536139\n",
            "34.952365622\n"
          ]
        },
        {
          "output_type": "display_data",
          "data": {
            "text/plain": [
              "<Figure size 640x480 with 1 Axes>"
            ],
            "image/png": "[encoded data removed]"
          },
          "metadata": {}
        }
      ]
    },
    {
      "cell_type": "code",
      "source": [
        "fig = genPlot(t2cl,t2, 'derivo4.0x20')\n",
        "fig.savefig('t2_4.0x20.png')"
      ],
      "metadata": {
        "colab": {
          "base_uri": "https://localhost:8080/",
          "height": 502
        },
        "id": "AaWvb4LSbRfP",
        "outputId": "d1bfa69f-cc24-486b-b3b0-32dfbd3ef596"
      },
      "execution_count": 16,
      "outputs": [
        {
          "output_type": "stream",
          "name": "stdout",
          "text": [
            "62 21.669777583\n",
            "138 48.233536139\n",
            "34.952365622\n"
          ]
        },
        {
          "output_type": "display_data",
          "data": {
            "text/plain": [
              "<Figure size 640x480 with 1 Axes>"
            ],
            "image/png": "[encoded data removed]"
          },
          "metadata": {}
        }
      ]
    },
    {
      "cell_type": "code",
      "source": [
        "fig = genPlot(t3cl, t3, 'derivo4.5x30')\n",
        "fig.savefig('t3_4.5x30.png')"
      ],
      "metadata": {
        "colab": {
          "base_uri": "https://localhost:8080/",
          "height": 502
        },
        "id": "JvgtiW7BcFU0",
        "outputId": "66da8645-3cb6-4351-876d-28d2a1771676"
      },
      "execution_count": 17,
      "outputs": [
        {
          "output_type": "stream",
          "name": "stdout",
          "text": [
            "40 13.988234852\n",
            "133 46.509816858\n",
            "14.684716937000001\n"
          ]
        },
        {
          "output_type": "display_data",
          "data": {
            "text/plain": [
              "<Figure size 640x480 with 1 Axes>"
            ],
            "image/png": "[encoded data removed]"
          },
          "metadata": {}
        }
      ]
    },
    {
      "cell_type": "code",
      "source": [
        "fig = genPlot(t4cl, t4, 'derivo4.0x15')\n",
        "fig.savefig('t4_4.0x15.png')"
      ],
      "metadata": {
        "colab": {
          "base_uri": "https://localhost:8080/",
          "height": 502
        },
        "id": "WbtrnmmZkurr",
        "outputId": "9b7f980e-2392-4c41-fa01-1ec6cfb4211b"
      },
      "execution_count": 18,
      "outputs": [
        {
          "output_type": "stream",
          "name": "stdout",
          "text": [
            "43 14.9897\n",
            "98 34.1625\n",
            "22.3108\n"
          ]
        },
        {
          "output_type": "display_data",
          "data": {
            "text/plain": [
              "<Figure size 640x480 with 1 Axes>"
            ],
            "image/png": "[encoded data removed]"
          },
          "metadata": {}
        }
      ]
    },
    {
      "cell_type": "code",
      "source": [
        "fig = genPlot(t5cl, t5, 'derivo4.0x15')\n",
        "fig.savefig('t5_4.0x15.png')"
      ],
      "metadata": {
        "colab": {
          "base_uri": "https://localhost:8080/",
          "height": 502
        },
        "id": "pwOXkNP-kaan",
        "outputId": "c7c2b682-cdfd-4a36-af35-2e7ef6e71185"
      },
      "execution_count": 19,
      "outputs": [
        {
          "output_type": "stream",
          "name": "stdout",
          "text": [
            "26 9.0859086348\n",
            "90 31.450901711\n",
            "17.82210263\n"
          ]
        },
        {
          "output_type": "display_data",
          "data": {
            "text/plain": [
              "<Figure size 640x480 with 1 Axes>"
            ],
            "image/png": "[encoded data removed]"
          },
          "metadata": {}
        }
      ]
    },
    {
      "cell_type": "code",
      "source": [
        "deploys = [\n",
        "    {\"id\":138, \"color\":\"#15b01a\"},\n",
        "    {\"id\":158, \"color\":\"#f97306\"}, \n",
        "    {\"id\":88, \"color\":\"#ffb07c\"}\n",
        "]\n",
        "\n",
        "fig = genPlot(t1cl, t1, 'derivo4.0x20', deploys)\n",
        "fig.savefig('deploys.png')"
      ],
      "metadata": {
        "id": "7XGeqmsXGrQ-"
      },
      "execution_count": null,
      "outputs": []
    },
    {
      "cell_type": "code",
      "source": [
        "deploys = [\n",
        "    {\"id\":149, \"color\":\"#f97306\"},\n",
        "]\n",
        "\n",
        "fig = genPlot(t1cl, t1, 'derivo4.0x20', deploys)\n",
        "fig.savefig('deploy149.png')"
      ],
      "metadata": {
        "id": "D7cwathENtWa"
      },
      "execution_count": null,
      "outputs": []
    },
    {
      "cell_type": "code",
      "source": [
        "cl = open(t1cl)\n",
        "print(cl.PointData[\"Curvature\"].min())\n",
        "print(cl.PointData[\"Curvature\"].max())"
      ],
      "metadata": {
        "id": "vihUup_vUDqK"
      },
      "execution_count": null,
      "outputs": []
    },
    {
      "cell_type": "code",
      "source": [
        "import numpy as np\n",
        "import matplotlib.pyplot as plt\n",
        "from matplotlib.collections import LineCollection\n",
        "from matplotlib.colors import ListedColormap, BoundaryNorm\n",
        "\n",
        "x = np.linspace(0, 3 * np.pi, 500)\n",
        "y = np.sin(x)\n",
        "dydx = np.cos(0.5 * (x[:-1] + x[1:]))  # first derivative\n",
        "\n",
        "# Create a set of line segments so that we can color them individually\n",
        "# This creates the points as an N x 1 x 2 array so that we can stack points\n",
        "# together easily to get the segments. The segments array for line collection\n",
        "# needs to be (numlines) x (points per line) x 2 (for x and y)\n",
        "points = np.array([x, y]).T.reshape(-1, 1, 2)\n",
        "segments = np.concatenate([points[:-1], points[1:]], axis=1)\n",
        "\n",
        "fig, ax = plt.subplots()\n",
        "\n",
        "print(segments.shape)\n",
        "print(dydx.shape)\n",
        "\n",
        "# Use a boundary norm instead\n",
        "cmap = ListedColormap(['r', 'g', 'b'])\n",
        "norm = BoundaryNorm([-1, -0.5, 0.5, 1], cmap.N)\n",
        "lc = LineCollection(segments, cmap=cmap, norm=norm)\n",
        "lc.set_array(dydx)\n",
        "line = ax.add_collection(lc)\n",
        "\n",
        "\n",
        "ax.set_xlim(x.min(), x.max())\n",
        "ax.set_ylim(-1.1, 1.1)\n",
        "plt.show()"
      ],
      "metadata": {
        "id": "A9rVvEH5LTS4"
      },
      "execution_count": null,
      "outputs": []
    }
  ]
}